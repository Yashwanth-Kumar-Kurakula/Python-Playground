{
 "cells": [
  {
   "cell_type": "markdown",
   "id": "e1730eda-2703-4e65-9457-60af4b53a3e0",
   "metadata": {},
   "source": [
    "The Following code is inspired from [course.fast.ai](course.fast.ai). \n",
    "This Model takes in the following inputs:\n",
    "1. No of Elements to create a Model\n",
    "2. Name of the Elements to create the Model\n",
    "\n",
    "Please note that the code downloads the images of the model so internet connectivity is a must, also please install all necessary libraries and packages before running the code. The code is working perfectly as of 30/04/2024"
   ]
  },
  {
   "cell_type": "code",
   "execution_count": null,
   "id": "bdbf5a7c-60f7-4d6d-9b53-8a8bdf06ee14",
   "metadata": {},
   "outputs": [],
   "source": [
    "from duckduckgo_search import DDGS\n",
    "from fastcore.all import *\n",
    "from fastdownload import download_url\n",
    "from fastai.vision.all import *\n",
    "\n",
    "#If you have pytorch installed you can uncomment the following code:\n",
    "# import torch\n",
    "# if torch.cuda.is_available():\n",
    "#     device = torch.device(\"cuda\")\n",
    "# else:\n",
    "#     device = torch.device(\"cpu\")\n",
    "\n",
    "ddgs = DDGS()\n",
    "\n",
    "def search_images(term, max_images=30):\n",
    "    print(f\"Searching for '{term}'\")\n",
    "    return L(ddgs.images(keywords=term, max_results=max_images)).itemgot('image')\n"
   ]
  },
  {
   "cell_type": "code",
   "execution_count": null,
   "id": "b5bb7581-8d1c-407f-8e3c-b8f1e5ce654f",
   "metadata": {},
   "outputs": [],
   "source": [
    "no_of_models = int(input(\"Enter the number of elements you want to train the model with: \"))\n",
    "searches = []\n",
    "for i in range(no_of_models):\n",
    "    temp = input(f\"Enter the name of your Element {i+1}: \")\n",
    "    searches.append(temp)"
   ]
  },
  {
   "cell_type": "code",
   "execution_count": null,
   "id": "02b02087-328f-43e2-897b-cba7da22053d",
   "metadata": {},
   "outputs": [],
   "source": [
    "path = Path('training_model')\n",
    "from time import sleep\n",
    "import shutil\n",
    "\n",
    "def clean_directory(dir_path):\n",
    "    for file_or_dir in os.listdir(dir_path):\n",
    "        file_or_dir_path = os.path.join(dir_path,file_or_dir)\n",
    "        if os.path.isfile(file_or_dir_path):\n",
    "            os.remove(file_or_dir_path)\n",
    "        elif os.path.isdir(file_or_dir_path):\n",
    "            shutil.rmtree(file_or_dir_path)\n",
    "\n",
    "if path.exists():\n",
    "    clean_directory(path)\n",
    "\n",
    "for o in searches:\n",
    "    '''This block of code basically downloads images of the elements specified on the device, and sorts them into different folders in the\n",
    "    \"training_model\" folder, if the folder doesnt exist, it creates it, if it does it overwrites the content in it. '''\n",
    "    dest = (path/o)\n",
    "    dest.mkdir(exist_ok=True, parents=True)\n",
    "    download_images(dest, urls=search_images(f'{o} photo'))\n",
    "    sleep(2)  # Pause between searches to avoid over-loading server\n",
    "    download_images(dest, urls=search_images(f'{o} sun photo'))\n",
    "    sleep(2)\n",
    "    download_images(dest, urls=search_images(f'{o} shade photo'))\n",
    "    sleep(2)\n",
    "    resize_images(path/o, max_size=400, dest=path/o)\n",
    "\n",
    "#Removes the failed images\n",
    "failed = verify_images(get_image_files(path))\n",
    "failed.map(Path.unlink)\n",
    "\n",
    "# len(failed) Uncomment this line to check the number of images failed\n"
   ]
  },
  {
   "cell_type": "code",
   "execution_count": null,
   "id": "b7c65d1e-dc78-4181-b651-09981dc524bd",
   "metadata": {},
   "outputs": [],
   "source": [
    "dls = DataBlock(\n",
    "    blocks=(ImageBlock, CategoryBlock), \n",
    "    get_items=get_image_files, \n",
    "    splitter=RandomSplitter(valid_pct=0.2, seed=42),\n",
    "    get_y=parent_label,\n",
    "    item_tfms=[Resize(192, method='squish')]\n",
    ").dataloaders(path)\n",
    "\n",
    "dls.show_batch(max_n=10)\n",
    "\n",
    "#Displays few images downloaded with the element name specified so you can verify it"
   ]
  },
  {
   "cell_type": "code",
   "execution_count": null,
   "id": "801f7323-f28e-4dc4-9c13-36c0061e9987",
   "metadata": {},
   "outputs": [],
   "source": [
    "learn = vision_learner(dls, resnet18, metrics=error_rate)\n",
    "learn.fine_tune(3)\n",
    "print(\"Your Model is Ready for testing\")"
   ]
  },
  {
   "cell_type": "code",
   "execution_count": null,
   "id": "8d7e9678-734e-43d8-8e16-8bab16678ca6",
   "metadata": {},
   "outputs": [],
   "source": [
    "#Input the path of the testing image below\n",
    "test_image_name = \"cheetah_training_1.jpg\"\n",
    "is_what,_,probs = learn.predict(PILImage.create(test_image_name))\n",
    "print(f\"This is a: {is_what}.\")"
   ]
  }
 ],
 "metadata": {
  "kernelspec": {
   "display_name": "Python 3 (ipykernel)",
   "language": "python",
   "name": "python3"
  },
  "language_info": {
   "codemirror_mode": {
    "name": "ipython",
    "version": 3
   },
   "file_extension": ".py",
   "mimetype": "text/x-python",
   "name": "python",
   "nbconvert_exporter": "python",
   "pygments_lexer": "ipython3",
   "version": "3.10.14"
  }
 },
 "nbformat": 4,
 "nbformat_minor": 5
}
